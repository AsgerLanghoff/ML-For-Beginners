{
 "cells": [
  {
   "cell_type": "code",
   "execution_count": 7,
   "metadata": {},
   "outputs": [
    {
     "name": "stdout",
     "output_type": "stream",
     "text": [
      "Det er en sandhed, der universelt er anerkendt, at en enkelt mand, der er i besiddelse af en lykke, skal være i mangel på en kone!\n"
     ]
    }
   ],
   "source": [
    "from textblob import TextBlob\n",
    "\n",
    "blob = TextBlob(\n",
    "    \"It is a truth universally acknowledged, that a single man in possession of a good fortune, must be in want of a wife!\"\n",
    ")\n",
    "print(blob.translate(from_lang=\"en\", to=\"da\"))"
   ]
  },
  {
   "cell_type": "code",
   "execution_count": 13,
   "metadata": {},
   "outputs": [
    {
     "name": "stdout",
     "output_type": "stream",
     "text": [
      "A happy accident kinda sucks. It's like, \"Oh, I'm happy, but I could be happier. has a sentiment of Sentiment(polarity=0.43333333333333335, subjectivity=0.7666666666666666)\n",
      "I hate everyone and everything and I'm going to die alone and everyone hates me. has a sentiment of Sentiment(polarity=-0.8, subjectivity=0.9)\n"
     ]
    }
   ],
   "source": [
    "from textblob import TextBlob\n",
    "\n",
    "quote1 = \"\"\"A happy accident kinda sucks. It's like, \"Oh, I'm happy, but I could be happier.\"\"\"\n",
    "\n",
    "quote2 = \"\"\"I hate everyone and everything and I'm going to die alone and everyone hates me.\"\"\"\n",
    "\n",
    "sentiment1 = TextBlob(quote1).sentiment\n",
    "sentiment2 = TextBlob(quote2).sentiment\n",
    "\n",
    "print(quote1 + \" has a sentiment of \" + str(sentiment1))\n",
    "print(quote2 + \" has a sentiment of \" + str(sentiment2))"
   ]
  },
  {
   "cell_type": "code",
   "execution_count": 25,
   "metadata": {},
   "outputs": [],
   "source": [
    "from distutils import text_file\n",
    "import nltk\n",
    "from nltk import punkt\n",
    "\n",
    "text_file = open(\"pride.txt\")\n",
    "\n",
    "data = text_file.read()\n",
    "\n",
    "Book = TextBlob(data)\n",
    "\n",
    "positive_sentiment_sentences = []\n",
    "negative_sentiment_sentences = []\n",
    "\n",
    "for sentence in Book.sentences:\n",
    "    if sentence.sentiment.polarity > 0:\n",
    "        positive_sentiment_sentences.append(sentence)\n",
    "    if sentence.sentiment.polarity < 0:\n",
    "        negative_sentiment_sentences.append(sentence)\n"
   ]
  },
  {
   "cell_type": "code",
   "execution_count": 26,
   "metadata": {},
   "outputs": [
    {
     "name": "stdout",
     "output_type": "stream",
     "text": [
      "Positive Sentiment Sentences: 2666\n",
      "Negative Sentiment Sentences: 1117\n"
     ]
    }
   ],
   "source": [
    "print(\"Positive Sentiment Sentences: \" + str(len(positive_sentiment_sentences)))\n",
    "print(\"Negative Sentiment Sentences: \" + str(len(negative_sentiment_sentences)))"
   ]
  }
 ],
 "metadata": {
  "kernelspec": {
   "display_name": "Python 3.9.7 ('base')",
   "language": "python",
   "name": "python3"
  },
  "language_info": {
   "codemirror_mode": {
    "name": "ipython",
    "version": 3
   },
   "file_extension": ".py",
   "mimetype": "text/x-python",
   "name": "python",
   "nbconvert_exporter": "python",
   "pygments_lexer": "ipython3",
   "version": "3.9.7"
  },
  "orig_nbformat": 4,
  "vscode": {
   "interpreter": {
    "hash": "ad2bdc8ecc057115af97d19610ffacc2b4e99fae6737bb82f5d7fb13d2f2c186"
   }
  }
 },
 "nbformat": 4,
 "nbformat_minor": 2
}
